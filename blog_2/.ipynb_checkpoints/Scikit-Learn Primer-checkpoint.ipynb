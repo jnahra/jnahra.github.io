{
 "cells": [
  {
   "cell_type": "markdown",
   "metadata": {},
   "source": [
    "# Scikit-Learn Primer\n",
    "\n",
    "## A Quick Overview\n",
    "\n",
    "Scikit-learn, or sklearn for short, is a popular open source machine learning Python library built on NumPy, SciPy, and Matplotlib. In fact, the name originates from the idea that it is a SciPy Toolkit aka \"SciKit\".\n",
    "\n",
    "Sklearn began as a Google Summer of Code project in 2007 worked on by French data scientist David Cournapeau. In 2010, contributors from the French Institute for Research in Computer Science and Automation took over the project and launched a public version of sklearn.\n",
    "\n",
    "While other Python libraries such as pandas are focused on data manipulation and summary statistics, sklearn's primary function is data modeling. Sklearn has many easy to use and efficient tools for machine learning and statistical modeling.\n",
    "\n",
    "Using sklearn, we can perform many tasks, including but not limited to the following:\n",
    "\n",
    "Classification - determines which category an object best fits in\n",
    "\n",
    "Regression - uses independent variable(s) to predict a dependent variable\n",
    "\n",
    "Clustering - groups similar objects together\n",
    "\n",
    "Said another way, sklearn has both supervised and unsupervised learning algorithms. Supervised learning algorithms are essentially when we assist machine learning models by having the right answer to check their predictions. Examples of supervised learning algorithms are linear regressions, support vector machines, and decision trees. Unsupervised learning algorithms, on the other hand, lack reference points to validate the accuracy of their models’ predictions. They must rely on using the data to find patterns and groupings. Examples of unsupervised learning algorithms include clustering, factor analysis, and unsupervised neural networks.\n",
    "\n",
    "When using a supervised learning algorithm in sklearn, we will often split the dataset we are working with into two pieces: a training set and a test set. The training set will be used for our machine learning model to learn best fit practices to predict most accurately. After exposing our machine learning model to the training set, we use the test set to assess whether our model can make accurate predictions based on data it has not been trained on.\n",
    "\n",
    "At the link below, you will find a wonderful sklearn cheat sheet from DataCamp that outlines all the different functionalities of sklearn as well as the associated Python code.\n",
    "\n",
    "http://datacamp-community-prod.s3.amazonaws.com/eb807da5-dce5-4b97-a54d-74e89f14266b\n",
    "\n",
    "This is a powerful Python library that our Flatiron instructor Jelly has deemed a must-learn. If she were an employer, she would not hire anyone who did not have a strong footing in sklearn. Needless to say, it is important to sk-learn this library. Happy coding!"
   ]
  }
 ],
 "metadata": {
  "kernelspec": {
   "display_name": "Python (learn-env)",
   "language": "python",
   "name": "learn-env"
  },
  "language_info": {
   "codemirror_mode": {
    "name": "ipython",
    "version": 3
   },
   "file_extension": ".py",
   "mimetype": "text/x-python",
   "name": "python",
   "nbconvert_exporter": "python",
   "pygments_lexer": "ipython3",
   "version": "3.8.5"
  }
 },
 "nbformat": 4,
 "nbformat_minor": 4
}
