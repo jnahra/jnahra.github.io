{
 "cells": [
  {
   "cell_type": "markdown",
   "metadata": {},
   "source": [
    "# Why Data Science\n",
    "\n",
    "## Allow Me to Introduce Myself\n",
    "\n",
    "Hello! My name is John Nahra. Prior to enrolling in the Flatiron Data Science bootcamp, I was working as an Economist doing macroeconomic forecasting and financial consulting for the last six years since graduating college in 2016. I attended Kenyon College, where I graduated magna cum laude as an Economics major with a minor in Statistics and a concentration in Environmental Studies while playing college baseball and singing in Kenyon's oldest a cappella group.\n",
    "\n",
    "I took an extensive course load of math & statistics classes at Kenyon, including: Econometrics, Data Analysis, Nonparametric Statistics, Calculus III, Probability, and Advanced Econometrics. In those classes, I worked on several data projects, including constructing a demand curve for residential solar panel systems in California and testing when baseball hitters' \"prime\" age occurred (if such a thing existed) and whether that prime age shifted higher for players who took steroids.\n",
    "\n",
    "Maybe unsurprisingly, I am interested in economics & financial markets, baseball (and fantasy baseball! I finished 2nd in my league the last three years in a 12-team league that includes 5 PhDs and 1 former Jeopardy winner), singing in the shower, fishing with my dad, and all types of games, from board games to video games to bar games. My latest accomplishment was learning to play the probability-based ancient game of backgammon from scratch and winning 50% of the time against my experienced Lebanese grandfather.\n",
    "\n",
    "So why data science?\n",
    "\n",
    "Broadly, I love strategy, problem solving, and data. My goal upon completing the data science program at Flatiron is to make a difference by solving intellectually stimulating problems and/or deriving useful insights using data and the skills I have gained at Flatiron. I'm amazed at how much I've already learned in Week 1 and I very much look forward to seeing how I can employ my knowledge in the real world after graduating. And who knows, maybe I will finally be able to win my fantasy baseball league using data science! In addition to finding a job in data science, I can't wait to use these powerful tools for passion projects on the side. There's so much data all around us and so many interesting questions to ask and try to answer.\n",
    "\n",
    "## Prior Experience: Data Science without Data Science Tools\n",
    "\n",
    "I feel like I've been doing data-science-type work without data science tools. \n",
    "\n",
    "At my last job, I was analyzing global economic and financial data and monitoring news outlets daily--quantitative and qualitative analysis--to generate original ideas for client publications. I authored, contributed to, and edited over 60 publications per year with macroeconomic analysis and actionable investment insights for clients.\n",
    "\n",
    "For my fantasy baseball league, I was always on https://baseballsavant.mlb.com/, an advanced MLB statistics website, for the edge against my competition. Taking a look at players' stat pages, I could do things such as see whether a player was outperforming their expected statistics and whether a player's hot start was based in luck or stemmed from a more intentional, lasting change to their hitting approach or pitch mix.\n",
    "\n",
    "I am looking forward to building on my existing skillset by refreshing my knowledge of statistical methods and learning new ones while gaining a strong foundation in the programming languages of Python and SQL along with data visualization software. Based on my job research, these are the skills required to do the kinds of data scientist work I want to be doing.\n",
    "\n",
    "\n",
    "## Why Flatiron\n",
    "\n",
    "I identified that I liked doing data science work, data science was a fast-growing job with applications across many industries, and that Python/SQL and Machine Learning were required skills to break into the field. Thus, I knew I wanted to learn how to use these data science tools. A full-time bootcamp seemed the most effective way to acquire the tools necessary to become a data scientist. I had prior experience in college with Stata and R and used Excel and Haver Analytics in my job, but I was new to Python. I went through the basics of Python with a Udemy course and enjoyed it. I also did the pre-application course work for another bootcamp, which covered Python, statistics, linear algebra, etc. \n",
    "\n",
    "In my research, Flatiron had been established as a reputable institution in the relatively new field of bootcamps. I believe the skills gained in this data science program at Flatiron, especially doing so in a full-time immersive way, are valuable. I picked the full-time option because I want to give it my all in order to make the transition to data science.\n",
    "\n",
    "## Backgammon and Data Science\n",
    "\n",
    "Besides the main goal of landing a job in data science, my Flatiron education will allow me to pursue fun side projects. Below I utilize my early stage Python coding to write a simple function to calculate whether I am ahead of my opponent in the race in backgammon. The object of the dice-based game is to get all 15 of your checkers into your home board and bear your checkers off before your opponent. If you are ahead in the race (have a lower \"pip count\"), you wish to avoid contact with your opponent who can hit your exposed checkers and send you back to their home board. If you are behind in the race, then you wish to maintain contact with your opponent with the hopes of hitting one of their exposed checkers. \n",
    "\n",
    "Thus, the so-called pip counts for you and your opponent are important figures to know for devising strategy at a given point in the game, though they can be a bit difficult to calculate in your head. Python to the rescue! My function takes in a list of 24 integers that represent the 24 spaces on the backgammon board. On each space, the user inputs how many checkers are on that space starting in their opponent's home board (positive values for their own checkers, negative values for their opponent's). My function also accounts for checkers that are on the \"bar\", meaning they've gotten hit and have not yet re-entered the board.\n",
    "\n",
    "Learning how to play backgammon will prepare me well in my data science studies. It was certainly a challenge. I had no knowledge of how to play, but my only surviving grandparent was very passionate about it, so I wanted to learn in order to bond with him. He is also very competitive so he does not take it easy on me. I was getting beat badly repeatedly early on, but I had the desire to get better. I read books and articles online. I practiced against the computer on my phone for countless hours. First, on the lowest difficulty. Then, when I had mastered that, I moved onto the next highest difficulty. Then on to the next highest difficulty. Then on to playing against other players online from around the world. Little by little, I got better. Eventually, after a couple years of practice during the pandemic, I began to compete with him. He is so happy to play with me and proud at how quickly I learned, since he has been playing the game for over 70 years. I am happy to have an activity to bond with him over. We both cannot wait for our weekly backgammon matches. What I learned over this process that I can apply to this bootcamp: \n",
    "\n",
    "1. Progress is not always linear and immediately apparent. Just try to get a little bit better every day and in the long run the results will show. \n",
    "2. Big tasks are more manageable broken into smaller pieces. And just starting is half of the battle. \n",
    "3. Mistakes are going to happen and they are learning experiences. Making mistakes is what allows you to improve. \n",
    "4. You never stop learning. Even for the experienced, there will still be unfamiliar situations. \n",
    "5. My grandfather is extremely lucky. He gets all the rolls."
   ]
  },
  {
   "cell_type": "code",
   "execution_count": 1,
   "metadata": {},
   "outputs": [],
   "source": [
    "def pip_count(board):\n",
    "    my_pip = 0\n",
    "    opp_pip = 0\n",
    "    my_bar = 15\n",
    "    opp_bar = 15    \n",
    "    for index,count in enumerate(board):\n",
    "        if count > 0:\n",
    "            my_pip += count * (24 - index)\n",
    "            my_bar -= count\n",
    "        if count < 0:\n",
    "            opp_pip += count * (index + 1) * -1\n",
    "            opp_bar -= (count * -1)\n",
    "    my_pip += my_bar * 25\n",
    "    opp_pip += opp_bar * 25\n",
    "    return my_pip,opp_pip"
   ]
  },
  {
   "cell_type": "code",
   "execution_count": 2,
   "metadata": {},
   "outputs": [],
   "source": [
    "starting_board = [2,0,0,0,0,-5,0,-3,0,0,0,5,-5,0,0,0,3,0,5,0,0,0,0,-2]"
   ]
  },
  {
   "attachments": {},
   "cell_type": "markdown",
   "metadata": {},
   "source": [
    "<div>\n",
    "<img src=\"starting_board.png\" width=\"400\"/>\n",
    "</div>"
   ]
  },
  {
   "cell_type": "code",
   "execution_count": 3,
   "metadata": {},
   "outputs": [
    {
     "data": {
      "text/plain": [
       "(167, 167)"
      ]
     },
     "execution_count": 3,
     "metadata": {},
     "output_type": "execute_result"
    }
   ],
   "source": [
    "pip_count(starting_board)"
   ]
  },
  {
   "cell_type": "code",
   "execution_count": 4,
   "metadata": {},
   "outputs": [],
   "source": [
    "board_2 = [2,0,0,0,0,-5,0,-3,0,0,0,3,-5,-1,0,0,4,0,5,0,0,0,0,-1]"
   ]
  },
  {
   "attachments": {},
   "cell_type": "markdown",
   "metadata": {},
   "source": [
    "<div>\n",
    "<img src=\"board_2.png\" width=\"400\"/>\n",
    "</div>"
   ]
  },
  {
   "cell_type": "code",
   "execution_count": 5,
   "metadata": {},
   "outputs": [
    {
     "data": {
      "text/plain": [
       "(174, 157)"
      ]
     },
     "execution_count": 5,
     "metadata": {},
     "output_type": "execute_result"
    }
   ],
   "source": [
    "pip_count(board_2)"
   ]
  },
  {
   "cell_type": "code",
   "execution_count": 6,
   "metadata": {},
   "outputs": [],
   "source": [
    "board_3 = [0,0,-1,-1,-1,-3,0,-3,0,-3,2,0,-3,0,0,0,2,1,2,3,2,2,1,0]"
   ]
  },
  {
   "attachments": {},
   "cell_type": "markdown",
   "metadata": {},
   "source": [
    "<div>\n",
    "<img src=\"board_3.png\" width=\"400\"/>\n",
    "</div>"
   ]
  },
  {
   "cell_type": "code",
   "execution_count": 7,
   "metadata": {},
   "outputs": [
    {
     "data": {
      "text/plain": [
       "(94, 123)"
      ]
     },
     "execution_count": 7,
     "metadata": {},
     "output_type": "execute_result"
    }
   ],
   "source": [
    "pip_count(board_3)"
   ]
  }
 ],
 "metadata": {
  "kernelspec": {
   "display_name": "Python (learn-env)",
   "language": "python",
   "name": "learn-env"
  },
  "language_info": {
   "codemirror_mode": {
    "name": "ipython",
    "version": 3
   },
   "file_extension": ".py",
   "mimetype": "text/x-python",
   "name": "python",
   "nbconvert_exporter": "python",
   "pygments_lexer": "ipython3",
   "version": "3.8.5"
  }
 },
 "nbformat": 4,
 "nbformat_minor": 4
}
