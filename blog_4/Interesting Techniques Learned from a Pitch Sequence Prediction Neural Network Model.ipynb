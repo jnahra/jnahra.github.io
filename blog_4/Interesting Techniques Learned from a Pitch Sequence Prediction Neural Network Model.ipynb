{
 "cells": [
  {
   "cell_type": "markdown",
   "metadata": {},
   "source": [
    "# Interesting Techniques Learned from a Pitch Sequence Prediction Neural Network Model\n",
    "\n",
    "\"No Pitch Is an Island: Pitch Prediction With Sequence-to-Sequence Deep Learning\" is a FanGraphs community research paper written by J Morehouse and published on January 3, 2022.\n",
    "\n",
    "J Morehouse was seeking to predict the last two pitch types of an at-bat in baseball. As Morehouse writes, \"The strategic advantages of knowing what a pitcher will throw beforehand are obvious due to the lengths teams go (both legal and illegal) to gain such information.\" \n",
    "\n",
    "There have been multiple analyses done on the topic of pitch prediction, but Morehouse saw a few common issues with them. He wanted to see if he could improve on their limitations. First, these analyses used models that were fit for each individual pitcher; the results were reported as an aggregate of all these individual models. Second, because each pitcher had his own model, there was a minimum number of pitches thrown requirement. Thus, pitchers with smaller sample sizes were excluded from the model. Morehouse wanted to devise his own model that would be capable of making pitch sequence predictions for all pitchers.\n",
    "\n",
    "One other important limitation in other models is that each pitch was treated as a separate input, whereas every plate appearance by a batter is really a sequence of pitches. Each pitch in an at-bat is not a completely isolated event; there is some level of dependency from one pitch to the next. This has always been the case, as pitching is largely about disrupting a batter's timing and vision by changing speeds and changing locations. Today, one of the buzzwords in pitching is \"tunneling\", where a pitcher has two different pitches that appear to be the same pitch as the ball approaches the batter before moving in different directions. If two pitches tunnel well together, the batter will have great difficulty discerning the pitch type, lowering their chances of success.\n",
    "\n",
    "Morehouse had an interesting way of incorporating at-bats as pitch sequences: applying machine translation--such as Google Translate--which takes in sequences of words as inputs and returns sequences of words as outputs. He posited that this deep learning paradigm mimics the pitch sequence analysis, which seeks to take in a pitch sequence (the first pitch or pitches of an at-bat) as the input and return a pitch sequence (the last two pitches of that at-bat) as the output. Sounds like a perfect application for this encoder-decoder deep learning model.\n",
    "\n",
    "## Methodology\n",
    "\n",
    "He used every plate apperance of the 2021 regular MLB season that was at least three pitches long (which allows for at least one pitch input as a starting point and then the prediction of the last two pitches). The season goes from April through September; the train-test split occurs at July 31. A random 20% portion of the training set is used for validation. The total dataset was 132,562 plate appearances, with 85,927 used for training. \n",
    "\n",
    "He ran a multi-class classification neural network model. Each class represents a different pitch type. Pitch types needed to be consolidated into seven distinct classes because there were too many variations. One problem he ran into was the model may predict a pitch type that isn't in a pitcher's repertoire. For pitchers with a larger sample size, the deep learning model should understand a pitcher's repertoire through the inclusion of a \"pitcher\" categorical variable.\n",
    "\n",
    "Only variables that would be known at the present point in the at-bat are used to predict future pitches in that at-bat. Some variables are constant, such as batter-handedness. Others are known for the first pitch but unknown for the remainder of the pitch sequence, such as the count (balls and strikes).\n",
    "\n",
    "Deep learning models can be finnicky when it comes to the shapes of inputs and outputs. Having at-bats that don't all have the same number of pitches is a problem that needed addressing. Morehouse used an interesting technique called masking to deal with this problem. Essentially masking makes inputs of variable length all inputs of fixed length by making them all sufficiently long and equal with dummy variables where necessary.\n",
    "\n",
    "Preliminary analysis of pitch prediction revealed another problem of overfitting on the training data, so L2 regularization and dropout was employed on the model. Another interesting feature he included was called an attention layer. Pitch sequences may have portions of the sequence that have greater predictive power. For example, maybe the second pitch in a sequence is most telling of future pitch types. The attention layer is designed to focus on those more important elements of the sequence.\n",
    "\n",
    "As one final step before the results, Morehouse utilized a hyperband algorithm, which allows for efficient tuning of hyperparameters by assigning resources to different areas of the model configuration. The tuner will minimize a categorical cross entropy loss function on the validation data set.\n",
    "\n",
    "## Results\n",
    "\n",
    "The model achieved 46% accuracy on the set-up pitch (2nd last pitch) and 47.9% on the result pitch (last pitch) in the test set. This compares with a baseline model of 35.5% and 35.1% when classifying pitches exclusively as four-seam fastballs (the most popular pitch type). The classification task is imbalanced because some pitches appear more often than others. Morehouse visualized the predictive success for each pitch type by producing ROC/AUC curves. He also calculated a weighted average ROC/AUC curve for all pitches. He noted that the four seam fastball was the most difficult to classify by AUC metrics because, being the most common pitch, it is often the default choice of the model, giving it a high false positive rate.\n",
    "\n",
    "One last potentially interesting result, which ties into the importance of this model: it appeared that batters had greater success on pitches that the model correctly predicted. That is, if the pitcher was, in a sense, more predictable. Of course, Morehouse correctly notes that this could simply be because the model is best at recognizing the fastball-fastball sequence, and hitters tend to hit fastballs best. But maybe there is some truth there, because one of a pitcher's greatest weapons is being unpredictable. When a batter knows what pitch is coming, such as when a pitcher is tipping his pitches or the batting team is stealing signs, hitters suddenly become much more dangerous in the box, highlighting the importance of pitch prediction in baseball.\n",
    "\n",
    "https://community.fangraphs.com/no-pitch-is-an-island-pitch-prediction-with-sequence-to-sequence-deep-learning/\n"
   ]
  }
 ],
 "metadata": {
  "kernelspec": {
   "display_name": "Python (learn-env)",
   "language": "python",
   "name": "learn-env"
  },
  "language_info": {
   "codemirror_mode": {
    "name": "ipython",
    "version": 3
   },
   "file_extension": ".py",
   "mimetype": "text/x-python",
   "name": "python",
   "nbconvert_exporter": "python",
   "pygments_lexer": "ipython3",
   "version": "3.8.5"
  }
 },
 "nbformat": 4,
 "nbformat_minor": 4
}
